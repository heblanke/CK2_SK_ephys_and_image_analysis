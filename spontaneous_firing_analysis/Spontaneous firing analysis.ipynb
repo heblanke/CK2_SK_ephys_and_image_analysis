{
 "cells": [
  {
   "cell_type": "code",
   "execution_count": null,
   "id": "b2d2650e",
   "metadata": {},
   "outputs": [],
   "source": [
    "import efel\n",
    "import numpy as np\n",
    "import pandas as pd\n",
    "import matplotlib.pyplot as plt\n",
    "import os\n",
    "import scipy\n",
    "import funcs_for_ck2_sk_study as ephys\n",
    "from scipy.signal import find_peaks\n",
    "from scipy import signal\n",
    "from scipy import stats\n",
    "import seaborn as sns\n",
    "import glob\n",
    "import matplotlib\n",
    "sns.set_style(\"ticks\")\n",
    "sns.set_context(\"paper\")\n",
    "plt.rcParams['font.family'] = 'Arial'\n",
    "#plt.rcParams['pdf.fonttype'] = 42\n",
    "matplotlib.rcParams['pdf.fonttype'] = 42"
   ]
  },
  {
   "cell_type": "code",
   "execution_count": null,
   "id": "9785779e",
   "metadata": {},
   "outputs": [],
   "source": [
    "#set a directory, all code for these analyses function for batch processing, and will work on a file's worth of data. They will specifically pull files in the axograph file format, and analyze them for each function. certain functions are dependent on other functions. \n",
    "#the purpose of this example notebook is for a general workflow for analyzing data. We have included a few functions and example data to show how to use the functions.\n",
    "example_dir = os.getcwd()"
   ]
  },
  {
   "cell_type": "code",
   "execution_count": null,
   "id": "b9772a18",
   "metadata": {},
   "outputs": [],
   "source": [
    "#Here, we will collect all interspike intervals and global mean traces for a set of files. This function will return a dataframe with the interspike intervals and global mean traces for each file, we will call these 'Control'. You can check the params for each function to see the input parameter requirements. \n",
    "control_noise_mean_trace, control_noise_isi, control_noise_global_mean_traces, control_noise_total_trajectories_baseline, control_noise_global_mean_isis = ephys.collect_isis_global_excel(example_dir, 20000, 0, 50, 0, 10, 'control')"
   ]
  },
  {
   "cell_type": "code",
   "execution_count": null,
   "id": "dbbaddbb",
   "metadata": {},
   "outputs": [],
   "source": [
    "#Here we will plot the voltage trajectories for the control group. This function will plot the voltage trajectories for the control group. You can check the params for each function to see the input parameter requirements.\n",
    "ephys.plot_average_voltage_trajectory(control_noise_mean_trace, control_noise_isi, 'Control', 'black', False, 'Control')"
   ]
  },
  {
   "cell_type": "code",
   "execution_count": null,
   "id": "2cf00c33",
   "metadata": {},
   "outputs": [],
   "source": [
    "#here we calculate the slopes and mean voltages for the group. This function will calculate the slopes and mean voltages for the group. You can check the params for each function to see the input parameter requirements.\n",
    "#control slopes and mean voltages\n",
    "\n",
    "save_path = 'Output path'\n",
    "control_slopes = ephys.calculate_slope_and_mean_voltage_50ms_window(control_noise_global_mean_traces, control_noise_global_mean_isis, save_path, 'control')\n",
    "\n",
    "control_slopes"
   ]
  },
  {
   "cell_type": "code",
   "execution_count": null,
   "id": "6533631e",
   "metadata": {},
   "outputs": [],
   "source": [
    "os.chdir('..')"
   ]
  },
  {
   "cell_type": "code",
   "execution_count": null,
   "id": "f7b6272b",
   "metadata": {},
   "outputs": [],
   "source": [
    "#Here we collect the spike voltages to work off of\n",
    "control_global_spike_voltages, control_mean_spike_voltages = ephys.mean_spike_voltages(os.getcwd(), 0, 50, -10, 'Control')"
   ]
  },
  {
   "cell_type": "code",
   "execution_count": null,
   "id": "ec392a3e",
   "metadata": {},
   "outputs": [],
   "source": [
    "os.chdir('..')"
   ]
  },
  {
   "cell_type": "code",
   "execution_count": null,
   "id": "2415b284",
   "metadata": {},
   "outputs": [],
   "source": [
    "#calcualte the spike width and thresholds from the spike voltages\n",
    "ephys.calculate_spike_widths_and_thresholds(control_global_spike_voltages, 20_000, 10, 'WT', save_path)"
   ]
  },
  {
   "cell_type": "code",
   "execution_count": null,
   "id": "5c2b6771",
   "metadata": {},
   "outputs": [],
   "source": [
    "#here we calculate the frequency and cv for the group. This function will calculate the frequency and cv for the group. You can check the params for each function to see the input parameter requirements.\n",
    "ephys.collect_frequency_and_cv(os.getcwd(), 20000, 0, -10, 0, 10, 'control')"
   ]
  }
 ],
 "metadata": {
  "kernelspec": {
   "display_name": "Python 3 (ipykernel)",
   "language": "python",
   "name": "python3"
  },
  "language_info": {
   "codemirror_mode": {
    "name": "ipython",
    "version": 3
   },
   "file_extension": ".py",
   "mimetype": "text/x-python",
   "name": "python",
   "nbconvert_exporter": "python",
   "pygments_lexer": "ipython3",
   "version": "3.9.13"
  }
 },
 "nbformat": 4,
 "nbformat_minor": 5
}
