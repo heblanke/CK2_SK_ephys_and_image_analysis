{
 "cells": [
  {
   "cell_type": "code",
   "execution_count": 25,
   "id": "2f74c1eb",
   "metadata": {
    "ExecuteTime": {
     "end_time": "2024-05-16T15:07:36.493702Z",
     "start_time": "2024-05-16T15:07:36.280314Z"
    }
   },
   "outputs": [],
   "source": [
    "import efel\n",
    "import numpy as np\n",
    "import pandas as pd\n",
    "import seaborn as sns\n",
    "import matplotlib.pyplot as plt\n",
    "import os\n",
    "import scipy\n",
    "import funcs_for_ck2_sk_study as ephys\n",
    "from scipy.signal import find_peaks\n",
    "from scipy import signal\n",
    "from scipy import stats\n",
    "from scipy.optimize import curve_fit"
   ]
  },
  {
   "cell_type": "code",
   "execution_count": 27,
   "id": "9abc5da0",
   "metadata": {
    "ExecuteTime": {
     "end_time": "2024-05-16T15:10:29.957699Z",
     "start_time": "2024-05-16T15:10:29.955282Z"
    }
   },
   "outputs": [],
   "source": [
    "cc_path = os.getcwd()"
   ]
  },
  {
   "cell_type": "code",
   "execution_count": 28,
   "id": "2ca0ef4c",
   "metadata": {
    "ExecuteTime": {
     "end_time": "2024-05-16T15:10:36.661028Z",
     "start_time": "2024-05-16T15:10:30.372475Z"
    }
   },
   "outputs": [
    {
     "name": "stdout",
     "output_type": "stream",
     "text": [
      "Working on file:  211227 005.axgd\n",
      "Working on file:  211227 009.axgd\n",
      "Working on file:  211227 015.axgd\n",
      "Working on file:  211227 023.axgd\n",
      "Working on file:  220214 012.axgd\n"
     ]
    }
   ],
   "source": [
    "#these code are well documented on efels github page. With strong documentation. These code are only used for the evoked spikes. All spontaneous firing code can be found in the \"Spontaenous firing analysis\" folder. Here we use a steeper threshold for the detection of spikes. \n",
    "#these code return excel sheets that will be saved in the path that you are currently in with all of the data. I have included a few example files to show you how to use the code.\n",
    "os.chdir(cc_path)\n",
    "f_i = ephys.analyze_feature(cc_path, feature='Spikecount_stimint')"
   ]
  },
  {
   "cell_type": "code",
   "execution_count": 29,
   "id": "ca2a689a",
   "metadata": {
    "ExecuteTime": {
     "end_time": "2024-05-16T15:10:37.718351Z",
     "start_time": "2024-05-16T15:10:37.714398Z"
    }
   },
   "outputs": [
    {
     "data": {
      "text/html": [
       "<div>\n",
       "<style scoped>\n",
       "    .dataframe tbody tr th:only-of-type {\n",
       "        vertical-align: middle;\n",
       "    }\n",
       "\n",
       "    .dataframe tbody tr th {\n",
       "        vertical-align: top;\n",
       "    }\n",
       "\n",
       "    .dataframe thead th {\n",
       "        text-align: right;\n",
       "    }\n",
       "</style>\n",
       "<table border=\"1\" class=\"dataframe\">\n",
       "  <thead>\n",
       "    <tr style=\"text-align: right;\">\n",
       "      <th></th>\n",
       "      <th>211227 005.axgd</th>\n",
       "      <th>211227 009.axgd</th>\n",
       "      <th>211227 015.axgd</th>\n",
       "      <th>211227 023.axgd</th>\n",
       "      <th>220214 012.axgd</th>\n",
       "    </tr>\n",
       "  </thead>\n",
       "  <tbody>\n",
       "    <tr>\n",
       "      <th>0</th>\n",
       "      <td>0</td>\n",
       "      <td>0</td>\n",
       "      <td>0</td>\n",
       "      <td>0</td>\n",
       "      <td>0</td>\n",
       "    </tr>\n",
       "    <tr>\n",
       "      <th>1</th>\n",
       "      <td>0</td>\n",
       "      <td>0</td>\n",
       "      <td>0</td>\n",
       "      <td>0</td>\n",
       "      <td>0</td>\n",
       "    </tr>\n",
       "    <tr>\n",
       "      <th>2</th>\n",
       "      <td>0</td>\n",
       "      <td>0</td>\n",
       "      <td>0</td>\n",
       "      <td>0</td>\n",
       "      <td>0</td>\n",
       "    </tr>\n",
       "    <tr>\n",
       "      <th>3</th>\n",
       "      <td>0</td>\n",
       "      <td>0</td>\n",
       "      <td>0</td>\n",
       "      <td>0</td>\n",
       "      <td>0</td>\n",
       "    </tr>\n",
       "    <tr>\n",
       "      <th>4</th>\n",
       "      <td>0</td>\n",
       "      <td>0</td>\n",
       "      <td>0</td>\n",
       "      <td>0</td>\n",
       "      <td>0</td>\n",
       "    </tr>\n",
       "    <tr>\n",
       "      <th>...</th>\n",
       "      <td>...</td>\n",
       "      <td>...</td>\n",
       "      <td>...</td>\n",
       "      <td>...</td>\n",
       "      <td>...</td>\n",
       "    </tr>\n",
       "    <tr>\n",
       "      <th>56</th>\n",
       "      <td>4</td>\n",
       "      <td>7</td>\n",
       "      <td>10</td>\n",
       "      <td>5</td>\n",
       "      <td>4</td>\n",
       "    </tr>\n",
       "    <tr>\n",
       "      <th>57</th>\n",
       "      <td>5</td>\n",
       "      <td>5</td>\n",
       "      <td>11</td>\n",
       "      <td>6</td>\n",
       "      <td>3</td>\n",
       "    </tr>\n",
       "    <tr>\n",
       "      <th>58</th>\n",
       "      <td>4</td>\n",
       "      <td>6</td>\n",
       "      <td>11</td>\n",
       "      <td>4</td>\n",
       "      <td>3</td>\n",
       "    </tr>\n",
       "    <tr>\n",
       "      <th>59</th>\n",
       "      <td>6</td>\n",
       "      <td>5</td>\n",
       "      <td>11</td>\n",
       "      <td>2</td>\n",
       "      <td>4</td>\n",
       "    </tr>\n",
       "    <tr>\n",
       "      <th>60</th>\n",
       "      <td>3</td>\n",
       "      <td>5</td>\n",
       "      <td>11</td>\n",
       "      <td>6</td>\n",
       "      <td>3</td>\n",
       "    </tr>\n",
       "  </tbody>\n",
       "</table>\n",
       "<p>61 rows × 5 columns</p>\n",
       "</div>"
      ],
      "text/plain": [
       "   211227 005.axgd 211227 009.axgd 211227 015.axgd 211227 023.axgd  \\\n",
       "0                0               0               0               0   \n",
       "1                0               0               0               0   \n",
       "2                0               0               0               0   \n",
       "3                0               0               0               0   \n",
       "4                0               0               0               0   \n",
       "..             ...             ...             ...             ...   \n",
       "56               4               7              10               5   \n",
       "57               5               5              11               6   \n",
       "58               4               6              11               4   \n",
       "59               6               5              11               2   \n",
       "60               3               5              11               6   \n",
       "\n",
       "   220214 012.axgd  \n",
       "0                0  \n",
       "1                0  \n",
       "2                0  \n",
       "3                0  \n",
       "4                0  \n",
       "..             ...  \n",
       "56               4  \n",
       "57               3  \n",
       "58               3  \n",
       "59               4  \n",
       "60               3  \n",
       "\n",
       "[61 rows x 5 columns]"
      ]
     },
     "execution_count": 29,
     "metadata": {},
     "output_type": "execute_result"
    }
   ],
   "source": [
    "f_i"
   ]
  },
  {
   "cell_type": "code",
   "execution_count": null,
   "id": "1493a91c",
   "metadata": {},
   "outputs": [],
   "source": []
  }
 ],
 "metadata": {
  "kernelspec": {
   "display_name": "Python 3 (ipykernel)",
   "language": "python",
   "name": "python3"
  },
  "language_info": {
   "codemirror_mode": {
    "name": "ipython",
    "version": 3
   },
   "file_extension": ".py",
   "mimetype": "text/x-python",
   "name": "python",
   "nbconvert_exporter": "python",
   "pygments_lexer": "ipython3",
   "version": "3.9.13"
  }
 },
 "nbformat": 4,
 "nbformat_minor": 5
}
