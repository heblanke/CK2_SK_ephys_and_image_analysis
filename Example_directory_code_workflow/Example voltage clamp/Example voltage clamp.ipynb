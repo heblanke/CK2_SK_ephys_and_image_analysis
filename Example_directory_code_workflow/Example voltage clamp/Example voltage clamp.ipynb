{
 "cells": [
  {
   "cell_type": "code",
   "execution_count": null,
   "id": "initial_id",
   "metadata": {
    "collapsed": true
   },
   "outputs": [],
   "source": []
  },
  {
   "cell_type": "code",
   "outputs": [],
   "source": [
    "import efel\n",
    "import numpy as np\n",
    "import pandas as pd\n",
    "import matplotlib.pyplot as plt\n",
    "import os\n",
    "import scipy\n",
    "from scipy.signal import find_peaks\n",
    "from scipy import signal\n",
    "from scipy import stats\n",
    "from scipy.optimize import curve_fit"
   ],
   "metadata": {
    "collapsed": false,
    "ExecuteTime": {
     "end_time": "2024-04-06T14:20:49.731437Z",
     "start_time": "2024-04-06T14:20:49.534015Z"
    }
   },
   "id": "f108c602c424ae39",
   "execution_count": 1
  },
  {
   "cell_type": "code",
   "outputs": [],
   "source": [],
   "metadata": {
    "collapsed": false
   },
   "id": "2595db65cabb982e"
  },
  {
   "cell_type": "code",
   "outputs": [],
   "source": [
    "#use neo to import either voltage or current clamp data in the correct, scaled units!\n",
    "def load_neo_file(file_name, **kwargs):\n",
    "    import neo\n",
    "    reader = neo.io.get_io(file_name)\n",
    "    blocks = reader.read(**kwargs)\n",
    "    new_blocks = []\n",
    "    for bl in blocks:\n",
    "        new_segments = []\n",
    "        for seg in bl.segments:\n",
    "            traces = []\n",
    "            count_traces = 0\n",
    "            analogsignals = seg.analogsignals\n",
    "\n",
    "            for sig in analogsignals:\n",
    "                traces.append({})\n",
    "                traces[count_traces]['T'] = sig.times.rescale('ms').magnitude\n",
    "                #need to write an if statement here for conversion\n",
    "                try:\n",
    "                    traces[count_traces]['A'] = sig.rescale('pA').magnitude\n",
    "                except:\n",
    "                    traces[count_traces]['V'] = sig.rescale('mV').magnitude\n",
    "                count_traces += 1\n",
    "            new_segments.append(traces)\n",
    "        #new_blocks.append(efel_segments)\n",
    "    return new_segments\n",
    "\n",
    "def ahc_analysis_step_time(path, time_start, time_end, metadata):\n",
    "    sample_rate = 20_000\n",
    "    start_time = int(time_start * sample_rate)\n",
    "    end_time = int(time_end * sample_rate)\n",
    "\n",
    "    def monoExp(x, m, t, b):\n",
    "        return m * np.exp(-t * x) + b\n",
    "\n",
    "    def biExp(x, m1, t1, m2, t2, b):\n",
    "        return m1 * np.exp(-t1 * x) + m2 * np.exp(-t2 * x) + b\n",
    "\n",
    "    ahc_append = []\n",
    "    ahc_auc_append = []\n",
    "\n",
    "    ahc_max_amp_append = []\n",
    "    auc_append = []\n",
    "    tau_append = []\n",
    "    ahc_max_amp_df_append = []\n",
    "    os.chdir(path)\n",
    "    file_names = sorted(os.listdir())\n",
    "    for file_name in file_names:\n",
    "        tabla = []\n",
    "        if file_name.endswith(\".axgd\") or file_name.endswith(\".axgx\"):\n",
    "            traces = load_neo_file(file_name)\n",
    "            for sk_data in traces:\n",
    "                for data in sk_data:\n",
    "                    #this is for the first part of the A-current\n",
    "                    times1 = data['T'][start_time:end_time]  #this is 16.101 to 16.213\n",
    "                    amps1 = data['A'][start_time:end_time]\n",
    "                    #plt.plot(times, amps) #inspect\n",
    "                    baseline = np.mean(data['A'][39200:39800])  #define a baseline period from which to substract from\n",
    "                    amps1 = amps1 - baseline  #subtract the baseline from the amplitudes of the first pulse\n",
    "\n",
    "                    amps1_df = pd.DataFrame(amps1)  #we generated all the amps into a dataframe, check\n",
    "                    flat_times = np.ndarray.flatten(\n",
    "                        times1)  #we have all of the times into a flattened numpy array, check\n",
    "                    tabla.append(amps1_df)  #and we appended all of the amps into a dataframe\n",
    "                amps_concat = pd.concat(tabla,\n",
    "                                        axis=1)  #this is correct - we put all the amps for a given trace into a dataframe\n",
    "            #now we need to average those dataframes by row\n",
    "            averaged_sk_trace = amps_concat.mean(\n",
    "                axis=1)  #woohooo this is the averaged SK trace in a pd.DF, this is what we want to work with from here on out!\n",
    "            #print(np.argmax(averaged_sk_trace)) #this is the index of the max value of the averaged trace\n",
    "\n",
    "            flat_times = flat_times[\n",
    "                         np.argmax(averaged_sk_trace):]  #this is the times from the max value to the end of the trace\n",
    "            averaged_sk_trace = averaged_sk_trace[np.argmax(\n",
    "                averaged_sk_trace):]  #this is the averaged trace from the max value to the end of the trace\n",
    "\n",
    "            #Block of code of AHC Max Amp !\n",
    "            ahc_max_amp = pd.DataFrame.max(\n",
    "                averaged_sk_trace)  #max of the whole ahc, not just sk component, This is the value!!\n",
    "            #figure out to how put this in a format that can be read and concatenated\n",
    "            ahc_max_amp_array = np.array(ahc_max_amp, ndmin=2)  #these lines are new\n",
    "            ahc_max_amp_df = pd.DataFrame(ahc_max_amp_array)\n",
    "            ahc_max_amp_df['file_name'] = file_name  #adding a column to add the filename\n",
    "\n",
    "            ahc_append.append(ahc_max_amp_df)  #Here!\n",
    "            ahc_max_amp_concat_df = pd.concat(ahc_append)  #This is the variable for ahc\n",
    "\n",
    "            #Block of code for AHC AUC\n",
    "            averaged_sk_trace_as_np = averaged_sk_trace.to_numpy()\n",
    "            flattened_average_sk_trace = np.ndarray.flatten(averaged_sk_trace_as_np)\n",
    "            ahc_auc = np.trapz(flattened_average_sk_trace) / 1000  #this is the auc of the whole ahc\n",
    "            #bit of code to get the ahc auc into readable condition\n",
    "            ahc_auc_array = np.array(ahc_auc, ndmin=2)\n",
    "            ahc_auc_df = pd.DataFrame(ahc_auc_array)  #here we have the auc data in a dataframe\n",
    "            ahc_auc_df['file_name'] = file_name\n",
    "            ahc_auc_append.append(ahc_auc_df)\n",
    "            ahc_auc_concat_df = pd.concat(ahc_auc_append)  #this is the variable for auc\n",
    "            plt.plot(flat_times, averaged_sk_trace)  #check\n",
    "            plt.fill_between(flat_times, 0, flattened_average_sk_trace, color='gray', alpha=0.5, label='AUC')\n",
    "\n",
    "            #Block of code for kinetics\n",
    "            trace_for_kinetics = flattened_average_sk_trace[:]\n",
    "            times_rel = flat_times - flat_times[0]\n",
    "            times_for_kinetics = times_rel[:]\n",
    "            trace_for_kinetics_pd = pd.DataFrame(trace_for_kinetics)\n",
    "            #trace_for_kinetics_pd.to_excel(\"trace_for_kinetics_pd.xlsx\")\n",
    "            times_for_kinetics_pd = pd.DataFrame(times_for_kinetics)\n",
    "            #times_for_kinetics_pd.to_excel(\"times_for_kinetics_pd.xlsx\")\n",
    "\n",
    "            #fit the curve for inactivation tau\n",
    "            # p0 = [500, .001, 50]  #values near what we expect   #here\n",
    "            # params, cv = scipy.optimize.curve_fit(monoExp, times_for_kinetics, trace_for_kinetics, p0,\n",
    "            #                                       bounds=(-np.inf, np.inf),\n",
    "            #                                       maxfev=100000)  #here  #this fits the training curve with an r-squared of 0.97\n",
    "            # m, t, b = params  #here\n",
    "\n",
    "            # p0 = [500, .001, 500, .001, 50]  # initial parameter values\n",
    "            # params, cv = scipy.optimize.curve_fit(biExp, times_for_kinetics, trace_for_kinetics, p0,\n",
    "            #                                       bounds=(-np.inf, np.inf),\n",
    "            #                                       maxfev=100000000)  # fitting the curve\n",
    "            # m1, t1, m2, t2, b = params\n",
    "            #\n",
    "            # #plot results\n",
    "            # plt.plot(times_for_kinetics, trace_for_kinetics, '.', label=\"data\")\n",
    "            # plt.plot(times_for_kinetics, biExp(times_for_kinetics, m1, t1, m2, t2, b), '--', label=\"fitted\")\n",
    "            # plt.title(\"Fitted Biexponential Curve\")\n",
    "            # plt.legend()\n",
    "            # plt.show()\n",
    "            #m, t = params\n",
    "            sampleRate = 20_000  #hz\n",
    "            # tauSec = (1 / t) / sampleRate\n",
    "            # print(tauSec)\n",
    "    #\n",
    "    #         #determine quality of fit\n",
    "    #         squaredDiffs = np.square(trace_for_kinetics - monoExp(times_for_kinetics, m, t, b))  #here\n",
    "    #         squaredDiffsFromMean = np.square(trace_for_kinetics - np.mean(trace_for_kinetics))\n",
    "    #         rSquared = 1 - np.sum(squaredDiffs) / np.sum(\n",
    "    #             squaredDiffsFromMean)  #we want these, but they arent super important to display\n",
    "    #         #print(f\"R^2 = {rSquared}\")\n",
    "    #\n",
    "    # #plot results\n",
    "    # plt.plot(times_for_kinetics, trace_for_kinetics, '.', label=\"data\")\n",
    "    # plt.plot(times_for_kinetics, monoExp(times_for_kinetics, m, t, b), '--', label=\"fitted\")  #here\n",
    "    # plt.show()\n",
    "    # plt.title(\"Fitted Expotential Curve\")\n",
    "    #\n",
    "    #         #inspect the params\n",
    "    #         #print(f\"Y = {m} * e^(-{t} * x) + {b}\")   #the equations are important\n",
    "    #         #print(f\"Tau = {tauSec * 1e6} us\")    #but the tau is the most important\n",
    "    #         plt.show()\n",
    "    #         tau_flat_ms = tauSec * 1e4\n",
    "    #\n",
    "    #         #Bit of code to get tau into working order\n",
    "    #         if 0 <= tauSec*1e4 <= 300:\n",
    "    #             tau_array = np.array(tauSec * 1e4, ndmin=2)\n",
    "    #             tau_df = pd.DataFrame(tau_array)\n",
    "    #             tau_df['file_name'] = file_name\n",
    "    #             tau_append.append(tau_df)\n",
    "    #             tau_concat_df = pd.concat(tau_append)   #this is the variable for tau\n",
    "    #         else:\n",
    "    #             print(file_name + ' is not within the range of 0-300ms')\n",
    "    #\n",
    "    #lets rename columns and export to excel for each of our metrics\n",
    "    ahc_max_amp_concat_df.rename(columns={0: 'Control AHC Max_Amplitude (pA)'}, inplace=True)\n",
    "    ahc_max_amp_concat_df.to_excel('ahc_max_amp ' + metadata + '.xlsx', index=False)\n",
    "\n",
    "    ahc_auc_concat_df.rename(columns={0: 'Control AHC AUC (pA*s)'}, inplace=True)\n",
    "    ahc_auc_concat_df.to_excel('ahc_auc ' + metadata + '.xlsx', index=False)\n",
    "    #\n",
    "    # tau_concat_df.rename(columns = {0:'Control Decay Tau (ms)'}, inplace=True)\n",
    "    # tau_concat_df.to_excel('ahc_tau ' + metadata + '.xlsx', index=False)\n",
    "    #\n",
    "    return display(ahc_max_amp_concat_df), display(ahc_auc_concat_df)  #, display(tau_concat_df)"
   ],
   "metadata": {
    "collapsed": false,
    "ExecuteTime": {
     "end_time": "2024-04-06T14:21:08.059165Z",
     "start_time": "2024-04-06T14:21:08.049342Z"
    }
   },
   "id": "c25dc8299dcc0508",
   "execution_count": 2
  },
  {
   "cell_type": "code",
   "outputs": [],
   "source": [],
   "metadata": {
    "collapsed": false
   },
   "id": "9492f7992bfccf68",
   "execution_count": 0
  },
  {
   "cell_type": "code",
   "outputs": [
    {
     "data": {
      "text/plain": "   Control AHC Max_Amplitude (pA)        file_name\n0                      317.915039  210708 005.axgd\n0                     1304.515381  210708 039.axgd\n0                      213.601166  210708 046.axgd\n0                      206.931076  210708 060.axgd",
      "text/html": "<div>\n<style scoped>\n    .dataframe tbody tr th:only-of-type {\n        vertical-align: middle;\n    }\n\n    .dataframe tbody tr th {\n        vertical-align: top;\n    }\n\n    .dataframe thead th {\n        text-align: right;\n    }\n</style>\n<table border=\"1\" class=\"dataframe\">\n  <thead>\n    <tr style=\"text-align: right;\">\n      <th></th>\n      <th>Control AHC Max_Amplitude (pA)</th>\n      <th>file_name</th>\n    </tr>\n  </thead>\n  <tbody>\n    <tr>\n      <th>0</th>\n      <td>317.915039</td>\n      <td>210708 005.axgd</td>\n    </tr>\n    <tr>\n      <th>0</th>\n      <td>1304.515381</td>\n      <td>210708 039.axgd</td>\n    </tr>\n    <tr>\n      <th>0</th>\n      <td>213.601166</td>\n      <td>210708 046.axgd</td>\n    </tr>\n    <tr>\n      <th>0</th>\n      <td>206.931076</td>\n      <td>210708 060.axgd</td>\n    </tr>\n  </tbody>\n</table>\n</div>"
     },
     "metadata": {},
     "output_type": "display_data"
    },
    {
     "data": {
      "text/plain": "   Control AHC AUC (pA*s)        file_name\n0              204.978312  210708 005.axgd\n0              226.862109  210708 039.axgd\n0              108.372180  210708 046.axgd\n0              144.853516  210708 060.axgd",
      "text/html": "<div>\n<style scoped>\n    .dataframe tbody tr th:only-of-type {\n        vertical-align: middle;\n    }\n\n    .dataframe tbody tr th {\n        vertical-align: top;\n    }\n\n    .dataframe thead th {\n        text-align: right;\n    }\n</style>\n<table border=\"1\" class=\"dataframe\">\n  <thead>\n    <tr style=\"text-align: right;\">\n      <th></th>\n      <th>Control AHC AUC (pA*s)</th>\n      <th>file_name</th>\n    </tr>\n  </thead>\n  <tbody>\n    <tr>\n      <th>0</th>\n      <td>204.978312</td>\n      <td>210708 005.axgd</td>\n    </tr>\n    <tr>\n      <th>0</th>\n      <td>226.862109</td>\n      <td>210708 039.axgd</td>\n    </tr>\n    <tr>\n      <th>0</th>\n      <td>108.372180</td>\n      <td>210708 046.axgd</td>\n    </tr>\n    <tr>\n      <th>0</th>\n      <td>144.853516</td>\n      <td>210708 060.axgd</td>\n    </tr>\n  </tbody>\n</table>\n</div>"
     },
     "metadata": {},
     "output_type": "display_data"
    },
    {
     "data": {
      "text/plain": "(None, None)"
     },
     "execution_count": 5,
     "metadata": {},
     "output_type": "execute_result"
    },
    {
     "data": {
      "text/plain": "<Figure size 640x480 with 1 Axes>",
      "image/png": "[encoded data removed]"
     },
     "metadata": {},
     "output_type": "display_data"
    }
   ],
   "source": [
    "#these are the code to analyze the SK currents, an example of the voltage clamp data analysis. It will output the AHC max amplitude and AUC dor the entire tail current from the maximum point of the SK current to a specified end time. \n",
    "\n",
    "ahc_analysis_step_time(os.getcwd(), 16.1001, 16.15, '100ms step test')"
   ],
   "metadata": {
    "collapsed": false,
    "ExecuteTime": {
     "end_time": "2024-04-06T14:22:47.719830Z",
     "start_time": "2024-04-06T14:22:47.465159Z"
    }
   },
   "id": "b6a0b00c5a7a5468",
   "execution_count": 5
  },
  {
   "cell_type": "code",
   "outputs": [],
   "source": [],
   "metadata": {
    "collapsed": false
   },
   "id": "89a54aabfcdcaeb3"
  }
 ],
 "metadata": {
  "kernelspec": {
   "display_name": "Python 3",
   "language": "python",
   "name": "python3"
  },
  "language_info": {
   "codemirror_mode": {
    "name": "ipython",
    "version": 2
   },
   "file_extension": ".py",
   "mimetype": "text/x-python",
   "name": "python",
   "nbconvert_exporter": "python",
   "pygments_lexer": "ipython2",
   "version": "2.7.6"
  }
 },
 "nbformat": 4,
 "nbformat_minor": 5
}
