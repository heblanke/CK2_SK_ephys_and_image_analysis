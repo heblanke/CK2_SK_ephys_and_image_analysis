{
 "cells": [
  {
   "metadata": {},
   "cell_type": "code",
   "source": [
    "#This is my pipeline to do image upscaling and segmentation using Cellpose 3 from Janelia labs (doi: https://doi.org/10.1101/2024.02.10.579780). The basic steps are:\n",
    "#1. Take the .czi files and extract the brightest slice from each channel and convert them to .tif files\n",
    "#2. Use Cellpose 3 to first upscale the images and then segment the cells in the .tif files\n",
    "#3. Measure the intensity of the cells in the .tif files\n",
    "\n",
    "#to do these three steps there are three major functions that are needed and implemented below. They are invidually commented on "
   ],
   "id": "7e114f95ea1245a5",
   "outputs": [],
   "execution_count": null
  },
  {
   "metadata": {},
   "cell_type": "code",
   "source": [
    "import sys\n",
    "import image_analysis_2 as ia\n",
    "import importlib\n",
    "import pandas as pd\n",
    "import numpy as np\n",
    "import seaborn as sns\n",
    "import os\n",
    "importlib.reload(ia)"
   ],
   "id": "8f1373ec4100daaf",
   "outputs": [],
   "execution_count": null
  },
  {
   "metadata": {},
   "cell_type": "code",
   "source": [
    "#get the name of the cwd that contains the .tif files that were previoulsly extracted\n",
    "brightest_slice_tiffs = os.getcwd() + '/'"
   ],
   "id": "dc0926eaef0de74d",
   "outputs": [],
   "execution_count": null
  },
  {
   "metadata": {},
   "cell_type": "code",
   "source": [
    "#run the 'collect_segmented_image_data' function to get the segmented image data, which is housed in the .ia module\n",
    "ck2_intensities_df, ck2_single_cell_intensities, ck2_intensities_df, th_single_cells, all_cells = ia.collect_segmented_image_data_original(brightest_slice_tiffs, 'CK2')"
   ],
   "id": "5b5691abdd53653f",
   "outputs": [],
   "execution_count": null
  },
  {
   "metadata": {},
   "cell_type": "code",
   "source": [
    "#specify some metadata and add it to the dataframe\n",
    "ck2_intensities_df['Genotype'] = 'WT'\n",
    "ck2_intensities_df['Stain'] = 'CK2'\n",
    "ck2_intensities_df['Animal'] = 'WT_1'"
   ],
   "id": "71fbed85b063c9ab",
   "outputs": [],
   "execution_count": null
  },
  {
   "metadata": {},
   "cell_type": "code",
   "source": [
    "#take a look at the dataframe\n",
    "ck2_intensities_df"
   ],
   "id": "4ae459c0621756e9",
   "outputs": [],
   "execution_count": null
  },
  {
   "metadata": {},
   "cell_type": "code",
   "source": [
    "#here we will use the collect cum sorted function to get the cumulative sum and mean, in the paper we only use mean, which is calculated for as the intensity of every pixel within the cell mask averaged. \n",
    "cumulative_sum_intensities = ia.collect_cum_sorted('sum_intensity', ck2_single_cell_intensities)\n",
    "cumulative_mean_intensities = ia.collect_cum_sorted('mean_intensity', ck2_single_cell_intensities)\n",
    "\n",
    "\n",
    "#lets make a dictionary out of those lists\n",
    "cumulative_dict = {'sum_intensity': cumulative_sum_intensities, 'mean_intensity': cumulative_mean_intensities}\n",
    "#lets make a dataframe out of that dictionary, here you can export the dataframe if you choose, in the next cell I will show you how to plot it using seaborn\n",
    "cumulative_df = pd.DataFrame(cumulative_dict)"
   ],
   "id": "30f1ebe5668348a5",
   "outputs": [],
   "execution_count": null
  },
  {
   "metadata": {},
   "cell_type": "code",
   "source": [
    "#using seaborn to plot the cumulative sum of the intensities\n",
    "sns.kdeplot(cumulative_sum_intensities, cumulative=True)"
   ],
   "id": "14c45f657c7e1857",
   "outputs": [],
   "execution_count": null
  },
  {
   "metadata": {},
   "cell_type": "code",
   "source": "",
   "id": "47d15e9a7aea20c",
   "outputs": [],
   "execution_count": null
  }
 ],
 "metadata": {
  "kernelspec": {
   "display_name": "Python 3",
   "language": "python",
   "name": "python3"
  },
  "language_info": {
   "codemirror_mode": {
    "name": "ipython",
    "version": 2
   },
   "file_extension": ".py",
   "mimetype": "text/x-python",
   "name": "python",
   "nbconvert_exporter": "python",
   "pygments_lexer": "ipython2",
   "version": "2.7.6"
  }
 },
 "nbformat": 4,
 "nbformat_minor": 5
}
