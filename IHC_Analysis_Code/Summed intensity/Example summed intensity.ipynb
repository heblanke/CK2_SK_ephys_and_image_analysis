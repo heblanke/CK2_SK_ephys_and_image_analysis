{
 "cells": [
  {
   "cell_type": "code",
   "id": "initial_id",
   "metadata": {
    "collapsed": true
   },
   "source": [
    ""
   ],
   "outputs": [],
   "execution_count": null
  },
  {
   "metadata": {},
   "cell_type": "code",
   "source": "#This is my pipeline to calculate summed intensity for an image. All functions are called from 'image_analysis_2' which you will need in line. ",
   "id": "3732340bbc3dc8c0",
   "outputs": [],
   "execution_count": null
  },
  {
   "metadata": {},
   "cell_type": "code",
   "source": [
    "\n",
    "from cellpose import core, utils, io, models, metrics\n",
    "from glob import glob\n",
    "import matplotlib as mpl\n",
    "%matplotlib inline\n",
    "mpl.rcParams['figure.dpi'] = 200\n",
    "from cellpose import utils, io\n",
    "import pandas as pd\n",
    "#first, we need to import the necessary libraries\n",
    "import numpy as np\n",
    "import matplotlib.pyplot as plt\n",
    "import os\n",
    "from aicsimageio import AICSImage\n",
    "from aicsimageio.readers import CziReader\n",
    "from aicsimageio.writers import OmeTiffWriter\n",
    "\n",
    "from cellpose import denoise\n",
    "from cellpose import models\n",
    "\n",
    "from skimage import io, filters\n",
    "\n",
    "import sys\n",
    "import image_analysis_2 as ia\n",
    "import importlib\n",
    "import pandas as pd\n",
    "import numpy as np\n",
    "import seaborn as sns\n",
    "import os\n",
    "importlib.reload(ia)"
   ],
   "id": "9ca2becef8a025b4",
   "outputs": [],
   "execution_count": null
  },
  {
   "metadata": {},
   "cell_type": "code",
   "source": [
    "#call the mip_binarize_and_fluor_by_area function, which is a misleading function call because it works on the summed intensity, which is the proper image format to calculate intensity values from\n",
    "th_intensisities = ia.mip_binarize_and_fluor_by_area(os.getcwd(), 'TH')\n",
    "dat_intensities = ia.mip_binarize_and_fluor_by_area(os.getcwd(), 'DAT')\n",
    "\n",
    "th_intensisities_mean = th_intensisities.mean()\n",
    "#rename the column to TH\n",
    "th_intensisities_mean.columns = ['TH']\n",
    "\n",
    "dat_intensities_mean = dat_intensities.mean()\n",
    "dat_intensities_mean.columns = ['DAT']\n",
    "\n",
    "#concat\n",
    "intensities = pd.concat([th_intensisities_mean, dat_intensities_mean], axis=1)\n",
    "intensities.columns = ['TH', 'DAT']"
   ],
   "id": "3243ff5e8d3deb7",
   "outputs": [],
   "execution_count": null
  },
  {
   "metadata": {},
   "cell_type": "code",
   "source": "th_intensisities",
   "id": "d37e3a6f1d041f77",
   "outputs": [],
   "execution_count": null
  },
  {
   "metadata": {},
   "cell_type": "code",
   "source": [
    "#specify some metadata\n",
    "directory_name = 'Example'\n",
    "stain_name= 'TH_DAT'\n",
    "genotype_name = '3xTg'\n"
   ],
   "id": "31429948048fff47",
   "outputs": [],
   "execution_count": null
  },
  {
   "metadata": {},
   "cell_type": "code",
   "source": [
    "#add the genotype name, and directory name to the intensities dataframe\n",
    "intensities['Genotype'] = genotype_name\n",
    "intensities['Animal'] = directory_name"
   ],
   "id": "ca08af2cd6ef0ccb",
   "outputs": [],
   "execution_count": null
  },
  {
   "metadata": {},
   "cell_type": "code",
   "source": "intensities",
   "id": "4820049a6a9dcd36",
   "outputs": [],
   "execution_count": null
  },
  {
   "metadata": {},
   "cell_type": "code",
   "source": "",
   "id": "c21d2d0d42d4f5b8",
   "outputs": [],
   "execution_count": null
  },
  {
   "metadata": {},
   "cell_type": "code",
   "source": "",
   "id": "af1861f39d4a1877",
   "outputs": [],
   "execution_count": null
  }
 ],
 "metadata": {
  "kernelspec": {
   "display_name": "Python 3",
   "language": "python",
   "name": "python3"
  },
  "language_info": {
   "codemirror_mode": {
    "name": "ipython",
    "version": 2
   },
   "file_extension": ".py",
   "mimetype": "text/x-python",
   "name": "python",
   "nbconvert_exporter": "python",
   "pygments_lexer": "ipython2",
   "version": "2.7.6"
  }
 },
 "nbformat": 4,
 "nbformat_minor": 5
}
