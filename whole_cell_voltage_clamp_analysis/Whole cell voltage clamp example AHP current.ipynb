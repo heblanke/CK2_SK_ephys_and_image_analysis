{
 "cells": [
  {
   "cell_type": "code",
   "execution_count": 1,
   "id": "c1d09e07",
   "metadata": {
    "ExecuteTime": {
     "end_time": "2024-05-24T17:58:31.264161Z",
     "start_time": "2024-05-24T17:58:31.062506Z"
    }
   },
   "outputs": [],
   "source": [
    "import efel\n",
    "import numpy as np\n",
    "import pandas as pd\n",
    "import matplotlib.pyplot as plt\n",
    "import os\n",
    "import scipy\n",
    "import funcs_for_ck2_sk_study as ephys\n",
    "from scipy.signal import find_peaks\n",
    "from scipy import signal\n",
    "from scipy import stats\n",
    "from scipy.optimize import curve_fit"
   ]
  },
  {
   "cell_type": "code",
   "execution_count": 16,
   "id": "2f48a63d",
   "metadata": {
    "ExecuteTime": {
     "end_time": "2024-05-24T18:07:54.701781Z",
     "start_time": "2024-05-24T18:07:54.581279Z"
    }
   },
   "outputs": [
    {
     "data": {
      "image/png": "[encoded data removed]",
      "text/plain": [
       "<Figure size 640x480 with 1 Axes>"
      ]
     },
     "metadata": {},
     "output_type": "display_data"
    }
   ],
   "source": [
    "#these are the code to analyze the SK currents, an example of the voltage clamp data analysis. It will output the AHC max amplitude and AUC dor the entire tail current from the maximum point of the SK current to a specified end time. \n",
    "\n",
    "ahc_amp, ahc_auc = ephys.ahc_analysis_step_time(os.getcwd(), 16.1001, 16.15, '100ms step test')"
   ]
  },
  {
   "cell_type": "code",
   "execution_count": 17,
   "id": "b2164d235b8abbb7",
   "metadata": {
    "ExecuteTime": {
     "end_time": "2024-05-24T18:07:56.268227Z",
     "start_time": "2024-05-24T18:07:56.265293Z"
    }
   },
   "outputs": [
    {
     "data": {
      "text/html": [
       "<div>\n",
       "<style scoped>\n",
       "    .dataframe tbody tr th:only-of-type {\n",
       "        vertical-align: middle;\n",
       "    }\n",
       "\n",
       "    .dataframe tbody tr th {\n",
       "        vertical-align: top;\n",
       "    }\n",
       "\n",
       "    .dataframe thead th {\n",
       "        text-align: right;\n",
       "    }\n",
       "</style>\n",
       "<table border=\"1\" class=\"dataframe\">\n",
       "  <thead>\n",
       "    <tr style=\"text-align: right;\">\n",
       "      <th></th>\n",
       "      <th>Control AHC AUC (pA*s)</th>\n",
       "      <th>file_name</th>\n",
       "    </tr>\n",
       "  </thead>\n",
       "  <tbody>\n",
       "    <tr>\n",
       "      <th>0</th>\n",
       "      <td>20.497831</td>\n",
       "      <td>210708 005.axgd</td>\n",
       "    </tr>\n",
       "  </tbody>\n",
       "</table>\n",
       "</div>"
      ],
      "text/plain": [
       "   Control AHC AUC (pA*s)        file_name\n",
       "0               20.497831  210708 005.axgd"
      ]
     },
     "execution_count": 17,
     "metadata": {},
     "output_type": "execute_result"
    }
   ],
   "source": [
    "ahc_auc"
   ]
  },
  {
   "cell_type": "code",
   "execution_count": 18,
   "id": "da9cf4fc141331ef",
   "metadata": {
    "ExecuteTime": {
     "end_time": "2024-05-24T18:08:02.487786Z",
     "start_time": "2024-05-24T18:08:02.483131Z"
    }
   },
   "outputs": [
    {
     "data": {
      "text/html": [
       "<div>\n",
       "<style scoped>\n",
       "    .dataframe tbody tr th:only-of-type {\n",
       "        vertical-align: middle;\n",
       "    }\n",
       "\n",
       "    .dataframe tbody tr th {\n",
       "        vertical-align: top;\n",
       "    }\n",
       "\n",
       "    .dataframe thead th {\n",
       "        text-align: right;\n",
       "    }\n",
       "</style>\n",
       "<table border=\"1\" class=\"dataframe\">\n",
       "  <thead>\n",
       "    <tr style=\"text-align: right;\">\n",
       "      <th></th>\n",
       "      <th>Control AHC Max_Amplitude (pA)</th>\n",
       "      <th>file_name</th>\n",
       "    </tr>\n",
       "  </thead>\n",
       "  <tbody>\n",
       "    <tr>\n",
       "      <th>0</th>\n",
       "      <td>317.915039</td>\n",
       "      <td>210708 005.axgd</td>\n",
       "    </tr>\n",
       "  </tbody>\n",
       "</table>\n",
       "</div>"
      ],
      "text/plain": [
       "   Control AHC Max_Amplitude (pA)        file_name\n",
       "0                      317.915039  210708 005.axgd"
      ]
     },
     "execution_count": 18,
     "metadata": {},
     "output_type": "execute_result"
    }
   ],
   "source": [
    "ahc_amp"
   ]
  },
  {
   "cell_type": "code",
   "execution_count": null,
   "id": "7c52a901a8ce4ae3",
   "metadata": {},
   "outputs": [],
   "source": []
  }
 ],
 "metadata": {
  "kernelspec": {
   "display_name": "Python 3 (ipykernel)",
   "language": "python",
   "name": "python3"
  },
  "language_info": {
   "codemirror_mode": {
    "name": "ipython",
    "version": 3
   },
   "file_extension": ".py",
   "mimetype": "text/x-python",
   "name": "python",
   "nbconvert_exporter": "python",
   "pygments_lexer": "ipython3",
   "version": "3.9.13"
  }
 },
 "nbformat": 4,
 "nbformat_minor": 5
}
